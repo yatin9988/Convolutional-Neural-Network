{
  "nbformat": 4,
  "nbformat_minor": 0,
  "metadata": {
    "colab": {
      "name": "CNN-keras-mnist.ipynb",
      "provenance": []
    },
    "kernelspec": {
      "name": "python3",
      "display_name": "Python 3"
    },
    "accelerator": "GPU"
  },
  "cells": [
    {
      "cell_type": "code",
      "metadata": {
        "id": "Tz1AGh9d1m33",
        "colab_type": "code",
        "colab": {}
      },
      "source": [
        "import numpy as np\n",
        "import matplotlib.pyplot as plt\n",
        "from keras.layers import *\n",
        "from keras.models import Sequential\n",
        "from keras.datasets import mnist\n",
        "from keras.utils import to_categorical"
      ],
      "execution_count": 0,
      "outputs": []
    },
    {
      "cell_type": "code",
      "metadata": {
        "id": "5nLHqnvyu9Ua",
        "colab_type": "code",
        "colab": {}
      },
      "source": [
        "(Xtrain,Ytrain),(Xtest,Ytest)=mnist.load_data()"
      ],
      "execution_count": 0,
      "outputs": []
    },
    {
      "cell_type": "code",
      "metadata": {
        "id": "54BmkZSXvSb4",
        "colab_type": "code",
        "colab": {
          "base_uri": "https://localhost:8080/",
          "height": 51
        },
        "outputId": "476e1168-ea33-41e0-d277-2380cbc82583"
      },
      "source": [
        "print(Xtrain.shape,Ytrain.shape)\n",
        "print(Xtest.shape,Ytest.shape)"
      ],
      "execution_count": 26,
      "outputs": [
        {
          "output_type": "stream",
          "text": [
            "(60000, 28, 28) (60000,)\n",
            "(10000, 28, 28) (10000,)\n"
          ],
          "name": "stdout"
        }
      ]
    },
    {
      "cell_type": "code",
      "metadata": {
        "id": "nXoHjNu_vcMn",
        "colab_type": "code",
        "colab": {}
      },
      "source": [
        "def preprocess(X,Y):\n",
        "  X = np.reshape(X,(-1,28,28,1))\n",
        "  X = X/255\n",
        "  Y = to_categorical(Y)\n",
        "  return (X,Y)"
      ],
      "execution_count": 0,
      "outputs": []
    },
    {
      "cell_type": "code",
      "metadata": {
        "id": "vvaJFYldyCRk",
        "colab_type": "code",
        "colab": {}
      },
      "source": [
        "(Xtrain,Ytrain) = preprocess(Xtrain,Ytrain)\n",
        "(Xtest,Ytest) = preprocess(Xtest,Ytest)"
      ],
      "execution_count": 0,
      "outputs": []
    },
    {
      "cell_type": "code",
      "metadata": {
        "id": "xnVbHXCqyQn5",
        "colab_type": "code",
        "colab": {
          "base_uri": "https://localhost:8080/",
          "height": 51
        },
        "outputId": "382fe0e4-76bf-4069-d7b6-4ec2776e7871"
      },
      "source": [
        "print(Xtrain.shape,Ytrain.shape)\n",
        "print(Xtest.shape,Ytest.shape)"
      ],
      "execution_count": 29,
      "outputs": [
        {
          "output_type": "stream",
          "text": [
            "(60000, 28, 28, 1) (60000, 10)\n",
            "(10000, 28, 28, 1) (10000, 10)\n"
          ],
          "name": "stdout"
        }
      ]
    },
    {
      "cell_type": "code",
      "metadata": {
        "id": "cpiq5sxvyTOS",
        "colab_type": "code",
        "colab": {}
      },
      "source": [
        "def visualise(img):\n",
        "  plt.imshow(np.reshape(img,(28,28)),cmap='gray')\n",
        "  plt.style.use('seaborn')\n",
        "  plt.axis('off')\n",
        "  plt.show()"
      ],
      "execution_count": 0,
      "outputs": []
    },
    {
      "cell_type": "code",
      "metadata": {
        "id": "MZRXIPb5yljM",
        "colab_type": "code",
        "colab": {
          "base_uri": "https://localhost:8080/",
          "height": 347
        },
        "outputId": "240c44fd-91eb-4185-d5c1-721c10049c22"
      },
      "source": [
        "visualise(Xtrain[10000])\n",
        "print(Ytrain[10000])"
      ],
      "execution_count": 32,
      "outputs": [
        {
          "output_type": "display_data",
          "data": {
            "image/png": "[encoded data removed]",
            "text/plain": [
              "<Figure size 576x396 with 1 Axes>"
            ]
          },
          "metadata": {
            "tags": []
          }
        },
        {
          "output_type": "stream",
          "text": [
            "[0. 0. 0. 1. 0. 0. 0. 0. 0. 0.]\n"
          ],
          "name": "stdout"
        }
      ]
    },
    {
      "cell_type": "code",
      "metadata": {
        "id": "A1vMT2yiyuoh",
        "colab_type": "code",
        "colab": {
          "base_uri": "https://localhost:8080/",
          "height": 347
        },
        "outputId": "01ad2d96-6790-420e-f752-df79a6f01b10"
      },
      "source": [
        "visualise(Xtrain[40000])\n",
        "print(Ytrain[40000])"
      ],
      "execution_count": 33,
      "outputs": [
        {
          "output_type": "display_data",
          "data": {
            "image/png": "[encoded data removed]",
            "text/plain": [
              "<Figure size 576x396 with 1 Axes>"
            ]
          },
          "metadata": {
            "tags": []
          }
        },
        {
          "output_type": "stream",
          "text": [
            "[0. 0. 0. 0. 0. 0. 0. 1. 0. 0.]\n"
          ],
          "name": "stdout"
        }
      ]
    },
    {
      "cell_type": "code",
      "metadata": {
        "id": "SEniBtCAy1h8",
        "colab_type": "code",
        "colab": {}
      },
      "source": [
        "## Model Architecture"
      ],
      "execution_count": 0,
      "outputs": []
    },
    {
      "cell_type": "code",
      "metadata": {
        "id": "o-gwW6jyzGGe",
        "colab_type": "code",
        "colab": {
          "base_uri": "https://localhost:8080/",
          "height": 425
        },
        "outputId": "ac359774-a64b-47f9-cf44-ed7db3bf6251"
      },
      "source": [
        "model = Sequential()\n",
        "model.add(Conv2D(32,(3,3),activation='relu',input_shape=(28,28,1)))\n",
        "model.add(MaxPool2D((2,2)))\n",
        "model.add(Conv2D(64,(3,3),activation='relu'))\n",
        "model.add(MaxPool2D((2,2)))\n",
        "model.add(Conv2D(64,(3,3),activation='relu'))\n",
        "model.add(Flatten())\n",
        "model.add(Dense(64,activation='relu'))\n",
        "model.add(Dense(10,activation='softmax'))\n",
        "model.summary()"
      ],
      "execution_count": 35,
      "outputs": [
        {
          "output_type": "stream",
          "text": [
            "Model: \"sequential_3\"\n",
            "_________________________________________________________________\n",
            "Layer (type)                 Output Shape              Param #   \n",
            "=================================================================\n",
            "conv2d_5 (Conv2D)            (None, 26, 26, 32)        320       \n",
            "_________________________________________________________________\n",
            "max_pooling2d_3 (MaxPooling2 (None, 13, 13, 32)        0         \n",
            "_________________________________________________________________\n",
            "conv2d_6 (Conv2D)            (None, 11, 11, 64)        18496     \n",
            "_________________________________________________________________\n",
            "max_pooling2d_4 (MaxPooling2 (None, 5, 5, 64)          0         \n",
            "_________________________________________________________________\n",
            "conv2d_7 (Conv2D)            (None, 3, 3, 64)          36928     \n",
            "_________________________________________________________________\n",
            "flatten_2 (Flatten)          (None, 576)               0         \n",
            "_________________________________________________________________\n",
            "dense_3 (Dense)              (None, 64)                36928     \n",
            "_________________________________________________________________\n",
            "dense_4 (Dense)              (None, 10)                650       \n",
            "=================================================================\n",
            "Total params: 93,322\n",
            "Trainable params: 93,322\n",
            "Non-trainable params: 0\n",
            "_________________________________________________________________\n"
          ],
          "name": "stdout"
        }
      ]
    },
    {
      "cell_type": "code",
      "metadata": {
        "id": "sERjjX4p1zB3",
        "colab_type": "code",
        "colab": {}
      },
      "source": [
        "## Compiling Model"
      ],
      "execution_count": 0,
      "outputs": []
    },
    {
      "cell_type": "code",
      "metadata": {
        "id": "5M2IRiLM2eWw",
        "colab_type": "code",
        "colab": {}
      },
      "source": [
        "model.compile(optimizer='adam',loss='categorical_crossentropy',metrics=['accuracy'])"
      ],
      "execution_count": 0,
      "outputs": []
    },
    {
      "cell_type": "code",
      "metadata": {
        "id": "lI2nacRu3Kdx",
        "colab_type": "code",
        "colab": {}
      },
      "source": [
        "## Training"
      ],
      "execution_count": 0,
      "outputs": []
    },
    {
      "cell_type": "code",
      "metadata": {
        "id": "6_odjiLP3MFa",
        "colab_type": "code",
        "colab": {
          "base_uri": "https://localhost:8080/",
          "height": 714
        },
        "outputId": "25e8d565-280b-4083-a52a-b7f233dac52b"
      },
      "source": [
        "hist = model.fit(Xtrain,Ytrain,batch_size=128,epochs=20,validation_split=0.1)"
      ],
      "execution_count": 39,
      "outputs": [
        {
          "output_type": "stream",
          "text": [
            "Train on 54000 samples, validate on 6000 samples\n",
            "Epoch 1/20\n",
            "54000/54000 [==============================] - 11s 205us/step - loss: 0.2822 - accuracy: 0.9153 - val_loss: 0.0668 - val_accuracy: 0.9808\n",
            "Epoch 2/20\n",
            "54000/54000 [==============================] - 5s 91us/step - loss: 0.0667 - accuracy: 0.9795 - val_loss: 0.0690 - val_accuracy: 0.9815\n",
            "Epoch 3/20\n",
            "54000/54000 [==============================] - 5s 90us/step - loss: 0.0470 - accuracy: 0.9856 - val_loss: 0.0383 - val_accuracy: 0.9895\n",
            "Epoch 4/20\n",
            "54000/54000 [==============================] - 5s 90us/step - loss: 0.0363 - accuracy: 0.9887 - val_loss: 0.0420 - val_accuracy: 0.9882\n",
            "Epoch 5/20\n",
            "54000/54000 [==============================] - 5s 91us/step - loss: 0.0286 - accuracy: 0.9910 - val_loss: 0.0376 - val_accuracy: 0.9898\n",
            "Epoch 6/20\n",
            "54000/54000 [==============================] - 5s 91us/step - loss: 0.0244 - accuracy: 0.9919 - val_loss: 0.0440 - val_accuracy: 0.9878\n",
            "Epoch 7/20\n",
            "54000/54000 [==============================] - 5s 91us/step - loss: 0.0197 - accuracy: 0.9938 - val_loss: 0.0308 - val_accuracy: 0.9918\n",
            "Epoch 8/20\n",
            "54000/54000 [==============================] - 5s 90us/step - loss: 0.0177 - accuracy: 0.9945 - val_loss: 0.0377 - val_accuracy: 0.9888\n",
            "Epoch 9/20\n",
            "54000/54000 [==============================] - 5s 90us/step - loss: 0.0151 - accuracy: 0.9951 - val_loss: 0.0295 - val_accuracy: 0.9918\n",
            "Epoch 10/20\n",
            "54000/54000 [==============================] - 5s 92us/step - loss: 0.0115 - accuracy: 0.9962 - val_loss: 0.0405 - val_accuracy: 0.9900\n",
            "Epoch 11/20\n",
            "54000/54000 [==============================] - 5s 90us/step - loss: 0.0102 - accuracy: 0.9964 - val_loss: 0.0322 - val_accuracy: 0.9917\n",
            "Epoch 12/20\n",
            "54000/54000 [==============================] - 5s 90us/step - loss: 0.0105 - accuracy: 0.9966 - val_loss: 0.0435 - val_accuracy: 0.9908\n",
            "Epoch 13/20\n",
            "54000/54000 [==============================] - 5s 91us/step - loss: 0.0081 - accuracy: 0.9974 - val_loss: 0.0399 - val_accuracy: 0.9905\n",
            "Epoch 14/20\n",
            "54000/54000 [==============================] - 5s 90us/step - loss: 0.0089 - accuracy: 0.9969 - val_loss: 0.0412 - val_accuracy: 0.9907\n",
            "Epoch 15/20\n",
            "54000/54000 [==============================] - 5s 90us/step - loss: 0.0070 - accuracy: 0.9977 - val_loss: 0.0378 - val_accuracy: 0.9907\n",
            "Epoch 16/20\n",
            "54000/54000 [==============================] - 5s 91us/step - loss: 0.0070 - accuracy: 0.9976 - val_loss: 0.0347 - val_accuracy: 0.9908\n",
            "Epoch 17/20\n",
            "54000/54000 [==============================] - 5s 90us/step - loss: 0.0058 - accuracy: 0.9981 - val_loss: 0.0371 - val_accuracy: 0.9910\n",
            "Epoch 18/20\n",
            "54000/54000 [==============================] - 5s 90us/step - loss: 0.0034 - accuracy: 0.9989 - val_loss: 0.0442 - val_accuracy: 0.9905\n",
            "Epoch 19/20\n",
            "54000/54000 [==============================] - 5s 89us/step - loss: 0.0058 - accuracy: 0.9981 - val_loss: 0.0506 - val_accuracy: 0.9912\n",
            "Epoch 20/20\n",
            "54000/54000 [==============================] - 5s 89us/step - loss: 0.0050 - accuracy: 0.9985 - val_loss: 0.0390 - val_accuracy: 0.9917\n"
          ],
          "name": "stdout"
        }
      ]
    },
    {
      "cell_type": "code",
      "metadata": {
        "id": "R5NU8auf3bLM",
        "colab_type": "code",
        "colab": {
          "base_uri": "https://localhost:8080/",
          "height": 51
        },
        "outputId": "1fe32e7f-c07e-4c4e-9af0-f9797ad9d014"
      },
      "source": [
        "model.evaluate(Xtest,Ytest)"
      ],
      "execution_count": 40,
      "outputs": [
        {
          "output_type": "stream",
          "text": [
            "10000/10000 [==============================] - 1s 125us/step\n"
          ],
          "name": "stdout"
        },
        {
          "output_type": "execute_result",
          "data": {
            "text/plain": [
              "[0.03657745556569561, 0.9914000034332275]"
            ]
          },
          "metadata": {
            "tags": []
          },
          "execution_count": 40
        }
      ]
    },
    {
      "cell_type": "code",
      "metadata": {
        "id": "Wv-hKL1f4jq5",
        "colab_type": "code",
        "colab": {}
      },
      "source": [
        "def plot_stats():\n",
        "  plt.axis('off')\n",
        "  plt.plot(hist.history['loss'],'green',label='loss')\n",
        "  plt.style.use('dark_background')\n",
        "  plt.legend()\n",
        "  plt.show()"
      ],
      "execution_count": 0,
      "outputs": []
    },
    {
      "cell_type": "code",
      "metadata": {
        "id": "unM4U8ul5aS7",
        "colab_type": "code",
        "colab": {
          "base_uri": "https://localhost:8080/",
          "height": 330
        },
        "outputId": "6fce1e2b-92ee-45ef-b20b-467e91b48d66"
      },
      "source": [
        "plot_stats()"
      ],
      "execution_count": 60,
      "outputs": [
        {
          "output_type": "display_data",
          "data": {
            "image/png": "[encoded data removed]",
            "text/plain": [
              "<Figure size 576x396 with 1 Axes>"
            ]
          },
          "metadata": {
            "tags": []
          }
        }
      ]
    }
  ]
}